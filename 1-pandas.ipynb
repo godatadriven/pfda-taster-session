{
 "cells": [
  {
   "cell_type": "markdown",
   "metadata": {},
   "source": [
    "<img src='images/gdd-logo.png' width='300px' align='right' style=\"padding: 15px\">\n",
    "\n",
    "# Pandas\n",
    "\n",
    "Let's start exploring datasets. For this we are going to use the `pandas` library.\n",
    "\n",
    "In this section we will cover:\n",
    "\n",
    "- [About the Data](#data)\n",
    "- [Importing the library](#import)\n",
    "- [Exploratory analysis](#exploratory)\n",
    "- [Data Cleaning](#cleaning)\n",
    "- [In-depth Analysis](#ida)\n",
    "- [Plotting with `.plot` & `seaborn`](#vis)\n"
   ]
  },
  {
   "cell_type": "markdown",
   "metadata": {},
   "source": [
    "## About the data - Palmer Penguins\n",
    "\n",
    "![](https://github.com/allisonhorst/palmerpenguins/raw/master/man/figures/logo.png)\n",
    "\n",
    "\n",
    "The data was collected and made available by Dr. Kristen Gorman and the Palmer Station, Antartica LTER. The goal of the dataset is to provide a great dataset for data exploration, visualisation and use of the scikit-learn API. "
   ]
  },
  {
   "cell_type": "markdown",
   "metadata": {},
   "source": [
    "<a id='import'></a>\n",
    "\n",
    "## Importing\n",
    "\n",
    "Pandas is a specialised package that allows us to work with databases using python.\n",
    "\n",
    "First we need to import the package."
   ]
  },
  {
   "cell_type": "code",
   "execution_count": null,
   "metadata": {},
   "outputs": [],
   "source": [
    "import pandas as pd"
   ]
  },
  {
   "cell_type": "markdown",
   "metadata": {},
   "source": [
    "<a id='exploratory'></a>\n",
    "\n",
    "## Exploratory analysis"
   ]
  },
  {
   "cell_type": "code",
   "execution_count": null,
   "metadata": {},
   "outputs": [],
   "source": [
    "# Create data to use\n",
    "penguins = pd.read_csv('data/penguins_raw.csv')"
   ]
  },
  {
   "cell_type": "code",
   "execution_count": null,
   "metadata": {},
   "outputs": [],
   "source": [
    "# look at the top 5 rows\n",
    "penguins.head()"
   ]
  },
  {
   "cell_type": "code",
   "execution_count": null,
   "metadata": {},
   "outputs": [],
   "source": [
    "penguins.groupby(['species','island']).count()"
   ]
  },
  {
   "cell_type": "code",
   "execution_count": null,
   "metadata": {},
   "outputs": [],
   "source": [
    "penguins.groupby('island').mean().drop('body_mass_g',axis=1).plot(kind='bar')"
   ]
  },
  {
   "cell_type": "code",
   "execution_count": null,
   "metadata": {},
   "outputs": [],
   "source": [
    "# get the shape of the data\n",
    "penguins.shape"
   ]
  },
  {
   "cell_type": "code",
   "execution_count": null,
   "metadata": {},
   "outputs": [],
   "source": [
    "# get stats on the numeric columns - where's R and VBA?\n",
    "penguins.describe()"
   ]
  },
  {
   "cell_type": "code",
   "execution_count": null,
   "metadata": {},
   "outputs": [],
   "source": [
    "# check the data types of each column\n",
    "penguins.dtypes"
   ]
  },
  {
   "cell_type": "code",
   "execution_count": null,
   "metadata": {},
   "outputs": [],
   "source": [
    "# Count the number of species\n",
    "penguins['species'].value_counts()"
   ]
  },
  {
   "cell_type": "code",
   "execution_count": null,
   "metadata": {},
   "outputs": [],
   "source": [
    "# find the min and max of the data\n",
    "penguins.max()"
   ]
  },
  {
   "cell_type": "code",
   "execution_count": null,
   "metadata": {},
   "outputs": [],
   "source": [
    "penguins.min()"
   ]
  },
  {
   "cell_type": "code",
   "execution_count": null,
   "metadata": {},
   "outputs": [],
   "source": [
    "# find the mean of one column\n",
    "penguins['body_mass_g'].mean()"
   ]
  },
  {
   "cell_type": "code",
   "execution_count": null,
   "metadata": {},
   "outputs": [],
   "source": [
    "# find the mean of one column - split by another column\n",
    "penguins.groupby('species')['body_mass_g'].mean()"
   ]
  },
  {
   "cell_type": "markdown",
   "metadata": {},
   "source": [
    "<a id='cleaning'></a>\n",
    "\n",
    "## Data Cleaning (wrangling)"
   ]
  },
  {
   "cell_type": "markdown",
   "metadata": {},
   "source": [
    "<img src='images/spend-time.jpg' width='700px'>\n",
    "\n",
    "Photo: [Forbes](https://www.forbes.com/sites/gilpress/2016/03/23/data-preparation-most-time-consuming-least-enjoyable-data-science-task-survey-says/?sh=4cd1339a6f63)"
   ]
  },
  {
   "cell_type": "markdown",
   "metadata": {},
   "source": [
    "Look at the data - what might we need to clean up?"
   ]
  },
  {
   "cell_type": "code",
   "execution_count": null,
   "metadata": {},
   "outputs": [],
   "source": [
    "penguins.head()"
   ]
  },
  {
   "cell_type": "markdown",
   "metadata": {},
   "source": [
    "DataFrame methods, like string methods, allow us to alter/change the dataframe without overwriting the original data.\n",
    "\n",
    "- `.assign()`: Add new or overwrite columns\n",
    "- `.rename()`: rename columns or index names\n",
    "- `.replace()`: Replace *exact* values\n",
    "- `.dropna()`: Drop rows with missing values\n",
    "- `.set_index()`: Set an index column"
   ]
  },
  {
   "cell_type": "code",
   "execution_count": null,
   "metadata": {},
   "outputs": [],
   "source": [
    "penguins_cleaned = (\n",
    "    penguins\n",
    "    .assign(flipper_length_cm = penguins['flipper_length_cm']*10)\n",
    "    .rename(columns = {'flipper_length_cm':'flipper_length_mm'})\n",
    "    .replace('F', 'Female')\n",
    "    .dropna()\n",
    "    .set_index('penguin_id')\n",
    ")"
   ]
  },
  {
   "cell_type": "code",
   "execution_count": null,
   "metadata": {},
   "outputs": [],
   "source": [
    "penguins_cleaned.head()"
   ]
  },
  {
   "cell_type": "markdown",
   "metadata": {},
   "source": [
    "### <mark>Activity:</mark>\n",
    "\n",
    "Using `penguins_cleaned`, find out:\n",
    "\n",
    "★ The mean flipper length of all the penguins"
   ]
  },
  {
   "cell_type": "code",
   "execution_count": null,
   "metadata": {},
   "outputs": [],
   "source": []
  },
  {
   "cell_type": "markdown",
   "metadata": {},
   "source": [
    "★★ How many males/females there are"
   ]
  },
  {
   "cell_type": "code",
   "execution_count": null,
   "metadata": {},
   "outputs": [],
   "source": []
  },
  {
   "cell_type": "markdown",
   "metadata": {},
   "source": [
    "★★★ The mean flipper length split by sex"
   ]
  },
  {
   "cell_type": "code",
   "execution_count": null,
   "metadata": {},
   "outputs": [],
   "source": []
  },
  {
   "cell_type": "markdown",
   "metadata": {},
   "source": [
    "***Hint***\n",
    "\n",
    "|Question|Syntax|Columns|\n",
    "|:---|:---|:---|\n",
    "|★|`df['col'].mean()`|`'flipper_length_mm'`|\n",
    "|★★|`df['col'].value_counts()`|`'sex'`|\n",
    "|★★★|`df.groupby('col1')['col2'].mean()`|`'sex'`, `'flipper_length_mm'`|"
   ]
  },
  {
   "cell_type": "markdown",
   "metadata": {},
   "source": [
    "***Answers***"
   ]
  },
  {
   "cell_type": "code",
   "execution_count": null,
   "metadata": {},
   "outputs": [],
   "source": [
    "%load answers/analysis1.py"
   ]
  },
  {
   "cell_type": "code",
   "execution_count": null,
   "metadata": {},
   "outputs": [],
   "source": [
    "%load answers/analysis2.py"
   ]
  },
  {
   "cell_type": "code",
   "execution_count": null,
   "metadata": {},
   "outputs": [],
   "source": [
    "%load answers/analysis3.py"
   ]
  },
  {
   "cell_type": "markdown",
   "metadata": {},
   "source": [
    "<a id='ida'></a>\n",
    "## In-depth Analysis"
   ]
  },
  {
   "cell_type": "markdown",
   "metadata": {},
   "source": [
    "Let's look a little deeper into the species column. What information can we gather from the different species?"
   ]
  },
  {
   "cell_type": "code",
   "execution_count": null,
   "metadata": {},
   "outputs": [],
   "source": [
    "penguins_cleaned['species'].unique()"
   ]
  },
  {
   "cell_type": "markdown",
   "metadata": {},
   "source": [
    "Let's look at how the lengths/mass change by species"
   ]
  },
  {
   "cell_type": "code",
   "execution_count": null,
   "metadata": {},
   "outputs": [],
   "source": [
    "penguins_cleaned.groupby('species').mean()"
   ]
  },
  {
   "cell_type": "markdown",
   "metadata": {},
   "source": [
    "There were also different islands - do the species come from specific islands?"
   ]
  },
  {
   "cell_type": "code",
   "execution_count": null,
   "metadata": {},
   "outputs": [],
   "source": [
    "(\n",
    "    pd\n",
    "    .crosstab(penguins['species'], penguins['island'])\n",
    "    .assign(Total = lambda df: df.sum(axis=1))\n",
    ")"
   ]
  },
  {
   "cell_type": "markdown",
   "metadata": {},
   "source": [
    "So the Adelie comes from all three islands... but Chinstra and Gentoo only from Dream and Biscoe respectively."
   ]
  },
  {
   "cell_type": "markdown",
   "metadata": {},
   "source": [
    "<a id='vis'></a>\n",
    "## Plotting\n",
    "\n",
    "It's time to start visualising this data. Is there any more information we can get from this data?\n",
    "\n",
    "Pandas is great for making some really quick/rough plots using the `.plot()` method!"
   ]
  },
  {
   "cell_type": "code",
   "execution_count": null,
   "metadata": {},
   "outputs": [],
   "source": [
    "(\n",
    "    pd\n",
    "    .crosstab(penguins['species'], penguins['island'])\n",
    "    # sorting the columns to make the chart cleaner\n",
    "    [['Dream','Biscoe','Torgersen']] \n",
    "    .plot(kind='bar', stacked=True, colormap='Pastel2')\n",
    ");"
   ]
  },
  {
   "cell_type": "markdown",
   "metadata": {},
   "source": [
    "We'll be using Seaborn for plotting but there are plenty of options out there. We're using Seaborn as it's really good for scatter plots."
   ]
  },
  {
   "cell_type": "code",
   "execution_count": null,
   "metadata": {},
   "outputs": [],
   "source": [
    "import seaborn as sns"
   ]
  },
  {
   "cell_type": "markdown",
   "metadata": {},
   "source": [
    "First let's use the `.plot.scatter()` method to see if there is correlations between the differen measurements we have..."
   ]
  },
  {
   "cell_type": "code",
   "execution_count": null,
   "metadata": {},
   "outputs": [],
   "source": [
    "penguins.plot.scatter(x='bill_length_mm', \n",
    "                      y='bill_depth_mm',\n",
    "                      c='lightblue');"
   ]
  },
  {
   "cell_type": "markdown",
   "metadata": {},
   "source": [
    "It doesn't seem that correlated, is this what we'd expect? Are we getting the full picture here?\n",
    "\n",
    "Let's use Seaborn to see if species has any effect on this."
   ]
  },
  {
   "cell_type": "code",
   "execution_count": null,
   "metadata": {},
   "outputs": [],
   "source": [
    "sns.scatterplot(data=penguins_cleaned, \n",
    "                x='bill_length_mm', \n",
    "                y='bill_depth_mm', \n",
    "                hue='species',\n",
    "                palette='Paired');"
   ]
  },
  {
   "cell_type": "markdown",
   "metadata": {},
   "source": [
    "Is this pattern the same for each measurement? Do I have to run this 12 times for each combination?!\n",
    "\n",
    "Actually seaborn has a way of looking at scatterplots for all numeric columns!"
   ]
  },
  {
   "cell_type": "code",
   "execution_count": null,
   "metadata": {},
   "outputs": [],
   "source": [
    "sns.pairplot(penguins_cleaned, hue=\"species\", palette='Paired');"
   ]
  },
  {
   "cell_type": "markdown",
   "metadata": {},
   "source": [
    "Always good to have **good knowledge** of your data. Do these charts match up to what we know about these different species of penguin?"
   ]
  },
  {
   "cell_type": "markdown",
   "metadata": {},
   "source": [
    "<img\n",
    "     src='data:image/jpeg;base64,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'>"
   ]
  },
  {
   "cell_type": "markdown",
   "metadata": {},
   "source": [
    "<img src='images/panda.gif' width='300px' align='right' style=\"padding: 20px\">\n",
    "\n",
    "## Final pandas thoughts...\n",
    "\n",
    "Learning Pandas can be quite frustrating but with practice (and Google!) it will become straightforward and extremely powerful."
   ]
  },
  {
   "cell_type": "markdown",
   "metadata": {},
   "source": [
    "---\n",
    "<img src='images/download.png' width='80px' align='left'>"
   ]
  },
  {
   "cell_type": "markdown",
   "metadata": {},
   "source": [
    "**If you would like to <mark>save this notebook</mark> there is a Download button at the top of the page. This will download the `.ipynb`**"
   ]
  },
  {
   "cell_type": "markdown",
   "metadata": {},
   "source": [
    "If you are not planning to get Anaconda but you want to save the work you've done, got to `File -> Download as` and choose `.html`."
   ]
  },
  {
   "cell_type": "markdown",
   "metadata": {},
   "source": [
    "<img src='images/visit-repo.png' width='60px' align='left'>"
   ]
  },
  {
   "cell_type": "markdown",
   "metadata": {},
   "source": [
    "Alternatively you can click Visit repo at the top to navigate to the github repo where you can download everything as a `.zip` file. \n",
    "\n",
    "\n",
    "Full solutions can be found in the [solutions folder](solutions/)."
   ]
  }
 ],
 "metadata": {
  "kernelspec": {
   "display_name": "Python 3",
   "language": "python",
   "name": "python3"
  },
  "language_info": {
   "codemirror_mode": {
    "name": "ipython",
    "version": 3
   },
   "file_extension": ".py",
   "mimetype": "text/x-python",
   "name": "python",
   "nbconvert_exporter": "python",
   "pygments_lexer": "ipython3",
   "version": "3.8.5"
  }
 },
 "nbformat": 4,
 "nbformat_minor": 4
}
