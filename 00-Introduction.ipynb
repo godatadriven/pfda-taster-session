{
 "cells": [
  {
   "cell_type": "markdown",
   "metadata": {
    "slideshow": {
     "slide_type": "slide"
    }
   },
   "source": [
    "<img src='images/gdd-logo.png' width='300px' align='right' style=\"padding: 15px\">\n",
    "\n",
    "# Advanced Data Science with Python\n",
    "\n",
    "Welcome to GoDataDriven's **Taster** for the Advanced Data Science with Python course!\n",
    "\n",
    "In this course we cover different aspects of advanced machine learning that can help you to improve your model dev elopment as well as look at some unsupervised learning.\n",
    "\n",
    "For this taster we will look at one topic from the course: **Feature Engineering**. \n",
    "\n",
    "### Pre-requisites:\n",
    "\n",
    "Since this is an advanced course, it's good to be very comfortable with the following:\n",
    "\n",
    "- Building a simple model with `scikit learn`\n",
    "- Scikit learn pipelines\n",
    "- Using pipelines in Pandas (or pandas chaining at the very least)\n",
    "\n",
    "\t\n",
    "\n",
    "\n",
    "\n",
    "_**There will be exercises!** Please visit_ [gdd.li/taster_adwsp](https://gdd.li/taster_adwsp) _to do the exercises & code along!_"
   ]
  },
  {
   "cell_type": "markdown",
   "metadata": {
    "slideshow": {
     "slide_type": "slide"
    }
   },
   "source": [
    "---\n",
    "<img src='images/ml.jpeg' width='300px' align='right' style=\"padding: 20px\">\n",
    "\n",
    "## Machine Learning Refresher\n",
    "\n",
    "Machine Learning has been a **buzzword** for years, especially with the high amount of data production by applications, the increase of computation power and the development of better algorithms. Machine Learning is used anywhere from automating mundane tasks to offering intelligent insights."
   ]
  },
  {
   "cell_type": "markdown",
   "metadata": {
    "slideshow": {
     "slide_type": "fragment"
    }
   },
   "source": [
    "There are many examples of ML in use:\n",
    "\n",
    "- **Prediction** — Using past data to make predictions of the future.\n",
    "- **Image recognition** — Detecting potential fraudsters, border control or logging in to personal devices.\n",
    "- **Speech Recognition** — The translation of spoken words into the text, voice searches, voice dialing and more.\n",
    "- **Medical diagnoses** — Machines can be trained to recognize cancerous tissues in imagery.\n",
    "- **Financial industry and trading** — companies use ML in fraud investigations and credit checks."
   ]
  },
  {
   "cell_type": "markdown",
   "metadata": {
    "slideshow": {
     "slide_type": "slide"
    }
   },
   "source": [
    "## A Quick History of Machine Learning\n",
    "\n",
    "The first manually operated computer system, ENIAC (Electronic Numerical Integrator and Computer), was invented in the 1940s. At that time the word “computer” was being used as a name for a human with intensive numerical computation capabilities, so, ENIAC was called a numerical computing machine! Well, you may say it has nothing to do with learning?! WRONG, from the beginning the idea was to build a machine able to emulate human thinking and learning.\n",
    "\n",
    "<img src='images/ml-history.jpeg' width=400px>"
   ]
  },
  {
   "cell_type": "markdown",
   "metadata": {
    "slideshow": {
     "slide_type": "subslide"
    }
   },
   "source": [
    "In the 1950s, we see the first computer game program claiming to be able to beat the checkers world champion. This program helped checkers players a lot in improving their skills!\n",
    "\n",
    "<img src='images/ml-timeline.png'>\n",
    "\n",
    "Thanks to statistics, machine learning became very famous in the 1990s. The intersection of computer science and statistics gave birth to probabilistic approaches in AI. This shifted the field further toward data-driven approaches. Having large-scale data available, scientists started to build intelligent systems that were able to analyze and learn from large amounts of data."
   ]
  },
  {
   "cell_type": "markdown",
   "metadata": {
    "slideshow": {
     "slide_type": "subslide"
    }
   },
   "source": [
    "---\n",
    "\n",
    "## What is Machine Learning?\n",
    "\n",
    "Machine Learning algorithms enable the computers to learn from data, and even improve themselves, without being explicitly programmed.\n",
    "\n",
    "Machine learning can be classified into 3 types of algorithms.\n",
    "\n",
    "![](images/ml-robot.jpeg)\n",
    "\n",
    "Some also consider ***semi-supervised*** to be the fourth type of algorithm. This is where some data is **labeled** but most of it is **unlabeled** and a **mixture of supervised and unsupervised** techniques can be used"
   ]
  },
  {
   "cell_type": "markdown",
   "metadata": {
    "slideshow": {
     "slide_type": "slide"
    }
   },
   "source": [
    "---\n",
    "\n",
    "## Overview of Supervised Learning Algorithm\n",
    "Supervised learning is the machine learning task of inferring a function from **labeled training data**. \n",
    "\n",
    "<img src='images/reg-v-class.png' width='300px' align='right' style=\"padding: 30px\">\n",
    "\n",
    "### Steps to success\n",
    "\n",
    "- Training data with labeled examples\n",
    "- Find optimal model parameters\n",
    "- Predict unknown labels\n",
    "\n",
    "### Types of Supervised Learning:\n",
    "\n",
    "- **Classification:** A classification problem is when the output variable is a category, such as “red” and “blue” or “disease” and “no disease”.\n",
    "- **Regression:** A regression problem is when the output variable is a real value, such as “dollars” or “weight”."
   ]
  },
  {
   "cell_type": "markdown",
   "metadata": {
    "slideshow": {
     "slide_type": "subslide"
    }
   },
   "source": [
    "---\n",
    "\n",
    "## Overview of Unsupervised Learning Algorithm\n",
    "Unsupervised learning is the machine learning task of inferring a function to describe **hidden structures** from **unlabeled data**.\n",
    "\n",
    "### Steps to sucesss\n",
    "\n",
    "<img src='images/unsupervised.png' width='600px' align='right' style=\"padding: 30px\">\n",
    "\n",
    "- Only have input data with no corresponding output\n",
    "- Model the underlying structure or distribution\n",
    "- No correct answer/model - no teacher\n",
    "- Left on their own to discover the structure\n",
    "\n",
    "### Types of Unsupervised learning\n",
    "\n",
    "- **Clustering:** A clustering problem is where you want to discover the inherent groupings in the data, such as grouping customers by purchasing behavior.\n",
    "- **Association:** An association rule learning problem is where you want to discover rules that describe large portions of your data, such as people that buy X also tend to buy Y."
   ]
  },
  {
   "cell_type": "markdown",
   "metadata": {
    "slideshow": {
     "slide_type": "subslide"
    }
   },
   "source": [
    "---\n",
    " \n",
    "## Overview of Reinforcement Learning\n",
    "A reinforcement learning algorithm, or agent, learns by interacting with its environment. The agent receives rewards by performing correctly and penalties for performing incorrectly. The agent learns without intervention from a human by maximizing its reward and minimizing its penalty. \n",
    "<img src='images/reinforcement.png' width='400px' align='right' style=\"padding: 30px\">\n",
    "\n",
    "#### Examples of Reinforcement Learning\n",
    "\n",
    "- Chess\n",
    "- Go - AlphaGo\n",
    "- Dota 2 - OpenAi"
   ]
  },
  {
   "cell_type": "markdown",
   "metadata": {
    "slideshow": {
     "slide_type": "subslide"
    }
   },
   "source": [
    "## Summary of algorithms\n",
    "\n",
    "|Algorithm|Short Summary|\n",
    "|:---:|:---:|\n",
    "|**Supervised**|All data is **labeled** and the algorithm **learns to predict** the output from the data input|\n",
    "|**Unsupervised**|Add data is **unlabeled** and the algorithm **learns the inherent** structure from the input data|\n",
    "|**Reinforcement Learning**|An agent **maximises the level of reward** by interacting within an environment with **no intervention from a human**.|"
   ]
  },
  {
   "cell_type": "markdown",
   "metadata": {
    "slideshow": {
     "slide_type": "slide"
    }
   },
   "source": [
    "<img src='images/choosing.jpeg' width='300px' align='right' style=\"padding: 30px\">\n",
    "\n",
    "## So what do we focus on in Advanced Machine Learning?\n",
    "\n",
    "**MACHINE LEARNING**\n",
    "- **Choosing the right model**\n",
    "- **Feature Engineering**\n",
    "- Feature Selection\n",
    "- Unsupervise Learning: Clustering\n",
    "\n",
    "**ADVANCED PYTHON**\n",
    "- Object Oriented Programming (OOP) & OOP in Scikit-learn\n",
    "- **Functions, Decorators & Pandas Pipelines**\n",
    "- Coding best practice\n",
    "- ML in Production & Streamlit\n",
    "- Hackathon: Refactoring ML Project\n",
    "\n",
    "The items in bold are covered (or touched upon) in today's taster.\n",
    "\n",
    "Let's take a look at our main topic of this taster: [Feature Engineering](01-feature-engineering.ipynb)"
   ]
  }
 ],
 "metadata": {
  "celltoolbar": "Slideshow",
  "kernelspec": {
   "display_name": "Python 3",
   "language": "python",
   "name": "python3"
  },
  "language_info": {
   "codemirror_mode": {
    "name": "ipython",
    "version": 3
   },
   "file_extension": ".py",
   "mimetype": "text/x-python",
   "name": "python",
   "nbconvert_exporter": "python",
   "pygments_lexer": "ipython3",
   "version": "3.8.5"
  }
 },
 "nbformat": 4,
 "nbformat_minor": 4
}
